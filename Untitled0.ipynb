{
  "nbformat": 4,
  "nbformat_minor": 0,
  "metadata": {
    "colab": {
      "provenance": [],
      "authorship_tag": "ABX9TyOkNyJ5hIZoJSmIJlVn2JD/",
      "include_colab_link": true
    },
    "kernelspec": {
      "name": "python3",
      "display_name": "Python 3"
    },
    "language_info": {
      "name": "python"
    }
  },
  "cells": [
    {
      "cell_type": "markdown",
      "metadata": {
        "id": "view-in-github",
        "colab_type": "text"
      },
      "source": [
        "<a href=\"https://colab.research.google.com/github/RaisaBar/DZoc/blob/master/Untitled0.ipynb\" target=\"_parent\"><img src=\"https://colab.research.google.com/assets/colab-badge.svg\" alt=\"Open In Colab\"/></a>"
      ]
    },
    {
      "cell_type": "code",
      "source": [
        "\n",
        "import pandas as pd\n",
        "import numpy as np\n",
        "import random\n",
        "\n",
        "lst = ['robot'] * 10\n",
        "lst += ['human'] * 10\n",
        "random.shuffle(lst)\n",
        "data = pd.DataFrame({'whoAmI': lst})\n",
        "print(data)\n",
        "\n",
        "#==================================================#\n",
        "data['tmp'] = 1\n",
        "data.set_index([data.index, 'whoAmI'], inplace=True)\n",
        "data = data.unstack(level=-1, fill_value = 0).astype(int)\n",
        "data.columns = data.columns.droplevel()\n",
        "data.columns.name = None\n",
        "print(data)"
      ],
      "metadata": {
        "colab": {
          "base_uri": "https://localhost:8080/"
        },
        "id": "41mKHN7E1lLA",
        "outputId": "114ee903-bc48-40dc-ba41-a9d1aa5aad49"
      },
      "execution_count": 2,
      "outputs": [
        {
          "output_type": "stream",
          "name": "stdout",
          "text": [
            "   whoAmI\n",
            "0   human\n",
            "1   robot\n",
            "2   robot\n",
            "3   robot\n",
            "4   robot\n",
            "5   robot\n",
            "6   human\n",
            "7   robot\n",
            "8   robot\n",
            "9   human\n",
            "10  human\n",
            "11  robot\n",
            "12  human\n",
            "13  robot\n",
            "14  human\n",
            "15  human\n",
            "16  human\n",
            "17  human\n",
            "18  robot\n",
            "19  human\n",
            "    human  robot\n",
            "0       1      0\n",
            "1       0      1\n",
            "2       0      1\n",
            "3       0      1\n",
            "4       0      1\n",
            "5       0      1\n",
            "6       1      0\n",
            "7       0      1\n",
            "8       0      1\n",
            "9       1      0\n",
            "10      1      0\n",
            "11      0      1\n",
            "12      1      0\n",
            "13      0      1\n",
            "14      1      0\n",
            "15      1      0\n",
            "16      1      0\n",
            "17      1      0\n",
            "18      0      1\n",
            "19      1      0\n"
          ]
        }
      ]
    }
  ]
}